{
 "cells": [
  {
   "cell_type": "markdown",
   "metadata": {},
   "source": [
    "Required directory structure\n",
    "\n",
    "```text\n",
    "- dataset\n",
    "    - train\n",
    "        - img\n",
    "            - 0001.jpg\n",
    "        - labels.json\n",
    "    - valid\n",
    "        - img\n",
    "            - 0100.jpg\n",
    "        - labels.json\n",
    "```"
   ]
  },
  {
   "cell_type": "code",
   "execution_count": 1,
   "metadata": {},
   "outputs": [],
   "source": [
    "import json"
   ]
  },
  {
   "cell_type": "code",
   "execution_count": 2,
   "metadata": {},
   "outputs": [],
   "source": [
    "with open('vott-json-export/face-dataset-export.json') as f:\n",
    "    dataset = json.load(f)"
   ]
  },
  {
   "cell_type": "code",
   "execution_count": 6,
   "metadata": {},
   "outputs": [
    {
     "data": {
      "text/plain": [
       "{'contributor': 'Inkers',\n",
       " 'date_created': '2021/01/12',\n",
       " 'version': '1.0',\n",
       " 'description': 'Inkers Dataset',\n",
       " 'year': 2021}"
      ]
     },
     "execution_count": 6,
     "metadata": {},
     "output_type": "execute_result"
    }
   ],
   "source": [
    "dset_info = {\n",
    "    \"contributor\": \"Inkers\",\n",
    "    \"date_created\": \"2021/01/12\",\n",
    "    \"version\": \"1.0\",\n",
    "    \"description\": \"Inkers Dataset\",\n",
    "    \"year\": 2021\n",
    "}\n",
    "dset_info"
   ]
  },
  {
   "cell_type": "code",
   "execution_count": 24,
   "metadata": {},
   "outputs": [],
   "source": [
    "categories = [{\"id\": k, \"name\": v['name']} for k, v in enumerate(dataset['tags'])]\n",
    "cat_map = {v['name']: v['id'] for v in categories}"
   ]
  },
  {
   "cell_type": "code",
   "execution_count": 25,
   "metadata": {},
   "outputs": [
    {
     "data": {
      "text/plain": [
       "[{'id': 0, 'name': 'people'},\n",
       " {'id': 1, 'name': 'dog'},\n",
       " {'id': 2, 'name': 'cat'}]"
      ]
     },
     "execution_count": 25,
     "metadata": {},
     "output_type": "execute_result"
    }
   ],
   "source": [
    "categories"
   ]
  },
  {
   "cell_type": "code",
   "execution_count": 26,
   "metadata": {},
   "outputs": [
    {
     "data": {
      "text/plain": [
       "{'people': 0, 'dog': 1, 'cat': 2}"
      ]
     },
     "execution_count": 26,
     "metadata": {},
     "output_type": "execute_result"
    }
   ],
   "source": [
    "cat_map"
   ]
  },
  {
   "cell_type": "markdown",
   "metadata": {},
   "source": [
    "COCO format\n",
    "\n",
    "```json\n",
    "\"annotations\": [{\n",
    "    \"area\": width * height,\n",
    "    \"iscrowd\": 0,\n",
    "    \"image_id\": 100,\n",
    "    \"bbox\": [xmin, ymin, width, height],\n",
    "    \"category_id\": category_id,\n",
    "    \"id\": annot_id,\n",
    "    \"ignore\": 0,\n",
    "    \"segmentation\": [],\n",
    "}]\n",
    "```\n",
    "\n",
    "```json\n",
    "\"images\": [{\n",
    "    \"width\": width,\n",
    "    \"height\": height,\n",
    "    \"id\": image_id,\n",
    "    \"file_name\": image_name\n",
    "}]\n",
    "```"
   ]
  },
  {
   "cell_type": "code",
   "execution_count": 38,
   "metadata": {},
   "outputs": [],
   "source": [
    "image_details_list = []\n",
    "annot_details_list = []\n",
    "\n",
    "img_idx = 0; annot_idx = 0\n",
    "\n",
    "for asset in dataset['assets'].values():\n",
    "    \n",
    "    asset_meta = asset['asset']\n",
    "    image_name = asset_meta['name']\n",
    "    img_width, img_height = asset_meta['size']['width'], asset_meta['size']['height']\n",
    "    \n",
    "    image_details = {\n",
    "        \"width\": img_width,\n",
    "        \"height\": img_height,\n",
    "        \"id\": img_idx,\n",
    "        \"file_name\": image_name,\n",
    "    }\n",
    "    \n",
    "    image_details_list.append(image_details)\n",
    "    \n",
    "    # print(image_name, img_width, img_height)\n",
    "    \n",
    "    for region in asset['regions']:\n",
    "        tag_id = cat_map[region['tags'][0]]\n",
    "        bbox = region['boundingBox']\n",
    "        X, Y, W, H = int(bbox['left']), int(bbox['top']), int(bbox['width']), int(bbox['height'])\n",
    "    \n",
    "        # print(tag_id, X, Y, W, H)\n",
    "\n",
    "        annot_details = {\n",
    "            \"area\": W * H,\n",
    "            \"bbox\": [X, Y, W, H],\n",
    "            \"category_id\": tag_id,\n",
    "            \"id\": annot_idx,\n",
    "            \"image_id\": img_idx,\n",
    "            \"iscrowd\": 0,\n",
    "            \"ignore\": 0,\n",
    "            \"segmentation\": [],\n",
    "        }\n",
    "        \n",
    "        annot_details_list.append(annot_details)\n",
    "        \n",
    "        annot_idx += 1\n",
    "        \n",
    "    img_idx += 1\n",
    "    \n",
    "    break"
   ]
  },
  {
   "cell_type": "code",
   "execution_count": 39,
   "metadata": {},
   "outputs": [
    {
     "data": {
      "text/plain": [
       "[{'width': 385,\n",
       "  'height': 594,\n",
       "  'id': 0,\n",
       "  'file_name': 'dhoni%20face%20look-712264.jpg'}]"
      ]
     },
     "execution_count": 39,
     "metadata": {},
     "output_type": "execute_result"
    }
   ],
   "source": [
    "image_details_list"
   ]
  },
  {
   "cell_type": "code",
   "execution_count": 40,
   "metadata": {},
   "outputs": [
    {
     "data": {
      "text/plain": [
       "[{'area': 118502,\n",
       "  'bbox': [20, 12, 307, 386],\n",
       "  'category_id': 0,\n",
       "  'id': 0,\n",
       "  'image_id': 0,\n",
       "  'iscrowd': 0,\n",
       "  'ignore': 0,\n",
       "  'segmentation': []}]"
      ]
     },
     "execution_count": 40,
     "metadata": {},
     "output_type": "execute_result"
    }
   ],
   "source": [
    "annot_details_list"
   ]
  },
  {
   "cell_type": "code",
   "execution_count": 41,
   "metadata": {},
   "outputs": [],
   "source": [
    "coco_json = {\n",
    "    \"info\": dset_info,\n",
    "    \"categories\": categories,\n",
    "    \"images\": image_details_list,\n",
    "    \"annotations\": annot_details_list\n",
    "}"
   ]
  },
  {
   "cell_type": "code",
   "execution_count": 42,
   "metadata": {},
   "outputs": [
    {
     "data": {
      "text/plain": [
       "{'info': {'contributor': 'Inkers',\n",
       "  'date_created': '2021/01/12',\n",
       "  'version': '1.0',\n",
       "  'description': 'Inkers Dataset',\n",
       "  'year': 2021},\n",
       " 'categories': [{'id': 0, 'name': 'people'},\n",
       "  {'id': 1, 'name': 'dog'},\n",
       "  {'id': 2, 'name': 'cat'}],\n",
       " 'images': [{'width': 385,\n",
       "   'height': 594,\n",
       "   'id': 0,\n",
       "   'file_name': 'dhoni%20face%20look-712264.jpg'}],\n",
       " 'annotations': [{'area': 118502,\n",
       "   'bbox': [20, 12, 307, 386],\n",
       "   'category_id': 0,\n",
       "   'id': 0,\n",
       "   'image_id': 0,\n",
       "   'iscrowd': 0,\n",
       "   'ignore': 0,\n",
       "   'segmentation': []}]}"
      ]
     },
     "execution_count": 42,
     "metadata": {},
     "output_type": "execute_result"
    }
   ],
   "source": [
    "coco_json"
   ]
  },
  {
   "cell_type": "code",
   "execution_count": null,
   "metadata": {},
   "outputs": [],
   "source": []
  }
 ],
 "metadata": {
  "kernelspec": {
   "display_name": "Python 3",
   "language": "python",
   "name": "python3"
  },
  "language_info": {
   "codemirror_mode": {
    "name": "ipython",
    "version": 3
   },
   "file_extension": ".py",
   "mimetype": "text/x-python",
   "name": "python",
   "nbconvert_exporter": "python",
   "pygments_lexer": "ipython3",
   "version": "3.8.6"
  }
 },
 "nbformat": 4,
 "nbformat_minor": 4
}
